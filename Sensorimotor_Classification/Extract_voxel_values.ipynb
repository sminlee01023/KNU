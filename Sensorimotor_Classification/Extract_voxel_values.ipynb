{
 "cells": [
  {
   "cell_type": "code",
   "execution_count": 1,
   "metadata": {},
   "outputs": [],
   "source": [
    "import pandas as pd\n",
    "import numpy as np\n",
    "import nilearn\n",
    "from nilearn.masking import apply_mask\n",
    "import nibabel as nib\n",
    "from glob import glob\n",
    "from tqdm import tqdm\n",
    "import os\n",
    "from scipy.stats import zscore"
   ]
  },
  {
   "cell_type": "code",
   "execution_count": 2,
   "metadata": {},
   "outputs": [],
   "source": [
    "base_dir = './data/'\n",
    "con = ['adt', 'lh', 'rh', 'vis']"
   ]
  },
  {
   "cell_type": "markdown",
   "metadata": {},
   "source": [
    "### extract voxel value"
   ]
  },
  {
   "cell_type": "code",
   "execution_count": 4,
   "metadata": {},
   "outputs": [
    {
     "name": "stderr",
     "output_type": "stream",
     "text": [
      "adt: 100%|██████████| 15/15 [13:09<00:00, 52.63s/it]\n",
      "lh: 100%|██████████| 15/15 [13:08<00:00, 52.55s/it]\n",
      "rh: 100%|██████████| 15/15 [11:04<00:00, 44.29s/it]\n",
      "vis: 100%|██████████| 15/15 [11:03<00:00, 44.25s/it]\n"
     ]
    }
   ],
   "source": [
    "mask_nii = nib.load(base_dir + 'allSub_mask.nii')\n",
    "mask_array = mask_nii.get_fdata()\n",
    "mask_array = np.where(mask_array >= 0.5, True, 0)\n",
    "\n",
    "for c in con:\n",
    "    save_dir = base_dir + '_voxel_value/' + c + '/'\n",
    "    os.makedirs(save_dir, exist_ok = True)\n",
    "    for i in tqdm(range(1, 16), desc = c):\n",
    "        data = nib.load(base_dir + 'sbj' + str(i).zfill(2) + '/' + c + '/swra' + c + '.nii')\n",
    "\n",
    "        masked_img = apply_mask(data, mask_nii)\n",
    "\n",
    "        df = pd.DataFrame(masked_img).T\n",
    "        df_dir = save_dir + 'all_voxel_value_sub' + str(i).zfill(2) + '.xlsx'\n",
    "        df.to_excel(df_dir)"
   ]
  },
  {
   "cell_type": "markdown",
   "metadata": {},
   "source": [
    "### z-score normalization"
   ]
  },
  {
   "cell_type": "code",
   "execution_count": 6,
   "metadata": {},
   "outputs": [
    {
     "name": "stderr",
     "output_type": "stream",
     "text": [
      "adt: 100%|██████████| 15/15 [17:19<00:00, 69.29s/it]\n",
      "lh: 100%|██████████| 15/15 [17:13<00:00, 68.90s/it]\n",
      "rh: 100%|██████████| 15/15 [17:08<00:00, 68.56s/it]\n",
      "vis: 100%|██████████| 15/15 [1:35:50<00:00, 383.39s/it]  \n"
     ]
    }
   ],
   "source": [
    "for c in con:\n",
    "    raw_voxel_dirs = glob(base_dir + '_voxel_value/' + c + '/all*.xlsx')\n",
    "\n",
    "    for i, dir in enumerate(tqdm(raw_voxel_dirs, desc = c), start=1):\n",
    "        df = pd.read_excel(dir, index_col = 'Unnamed: 0')\n",
    "        zscored_df = zscore(df)\n",
    "\n",
    "        save_dir = base_dir + '_voxel_value/' + c + '/zscored_all_voxel_value_sub' + str(i).zfill(2) + '.xlsx'\n",
    "        zscored_df.to_excel(save_dir)"
   ]
  },
  {
   "cell_type": "markdown",
   "metadata": {},
   "source": [
    "### data segmentation"
   ]
  },
  {
   "cell_type": "code",
   "execution_count": 22,
   "metadata": {},
   "outputs": [],
   "source": [
    "slice_num = []\n",
    "for i in range(10):\n",
    "    for j in [15, 35, 55]:\n",
    "        slice_num.append(i + j)\n",
    "\n",
    "slice_num = sorted(slice_num)"
   ]
  },
  {
   "cell_type": "code",
   "execution_count": 25,
   "metadata": {},
   "outputs": [
    {
     "name": "stderr",
     "output_type": "stream",
     "text": [
      "adt: 100%|██████████| 15/15 [13:08<00:00, 52.55s/it]\n",
      "lh: 100%|██████████| 15/15 [11:03<00:00, 44.23s/it]\n",
      "rh: 100%|██████████| 15/15 [10:58<00:00, 43.91s/it]\n",
      "vis: 100%|██████████| 15/15 [11:00<00:00, 44.06s/it]\n"
     ]
    }
   ],
   "source": [
    "for c in con:\n",
    "    norm_voxel_dirs = glob(base_dir + '_voxel_value/' + c + '/zscored_all*.xlsx')\n",
    "\n",
    "    for i, dir in enumerate(tqdm(norm_voxel_dirs, desc = c), start=1):\n",
    "        df = pd.read_excel(dir, index_col = 'Unnamed: 0')\n",
    "        trimmed_df = df[slice_num]\n",
    "\n",
    "        save_dir = base_dir + '_voxel_value/' + c + '/trimmed_zscored_all_voxel_value_sub' + str(i).zfill(2) + '.xlsx'\n",
    "        trimmed_df.to_excel(save_dir)"
   ]
  }
 ],
 "metadata": {
  "kernelspec": {
   "display_name": "SM",
   "language": "python",
   "name": "python3"
  },
  "language_info": {
   "codemirror_mode": {
    "name": "ipython",
    "version": 3
   },
   "file_extension": ".py",
   "mimetype": "text/x-python",
   "name": "python",
   "nbconvert_exporter": "python",
   "pygments_lexer": "ipython3",
   "version": "3.11.9"
  }
 },
 "nbformat": 4,
 "nbformat_minor": 2
}
